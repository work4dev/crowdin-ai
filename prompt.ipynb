{
 "cells": [
  {
   "cell_type": "code",
   "execution_count": 1,
   "id": "initial_id",
   "metadata": {
    "collapsed": true,
    "ExecuteTime": {
     "end_time": "2024-03-03T05:49:44.804576Z",
     "start_time": "2024-03-03T05:49:44.493964Z"
    }
   },
   "outputs": [],
   "source": [
    "from openai import Client\n",
    "import os\n",
    "\n",
    "from dotenv import load_dotenv, find_dotenv\n",
    "_ = load_dotenv(find_dotenv())\n",
    "\n",
    "client = Client(\n",
    "    api_key=os.getenv(\"OPENAI_API_KEY\"),\n",
    "    base_url=os.getenv(\"OPENAI_API_HOST\"),\n",
    ")\n",
    "\n",
    "def gpt_completion(prompt, model=\"gpt-4\"):\n",
    "    message = [{\"role\": \"user\", \"content\": prompt}]\n",
    "    response = client.chat.completions.create(\n",
    "        model=model,\n",
    "        messages=message,\n",
    "        temperature=0,\n",
    "    )\n",
    "    return response.choices[0].message.content\n"
   ]
  },
  {
   "cell_type": "code",
   "outputs": [
    {
     "name": "stdout",
     "output_type": "stream",
     "text": [
      "[\n",
      "{\n",
      "\"translation\": \"演示站点示例: <code>https://door.casdoor.com/api/get-global-providers?username=built-in/admin&amp;password=123</code>\"\n",
      "},\n",
      "{\n",
      "\"translation\": \"1.\"\n",
      "},\n",
      "{\n",
      "\"translation\": \"https://github.com/casdoor/casdoor/blob/2fec3f72ae9a38891a951e55e088b4967cdf4836/object/organization.go#L32\"\n",
      "}\n",
      "]\n"
     ]
    }
   ],
   "source": [
    "prompt = \"\"\"\n",
    "请将以下多个用三个反引号括起来的文本翻译为{lang}, 翻译时需要遵循下面的规则：\n",
    "1. 文本中可能存在代码，你需要保留代码的原样。\n",
    "2. 文本中可能包含 HTML 标签或者 HTML 转义字符，请不要翻译这些内容。\n",
    "3. 请以JSON格式返回翻译后的文本或者原文，包含一个键值对，键为\"translation\"，值为翻译后的文本或者原文。\n",
    "4. 如果有多个文本需要翻译，请以数组的形式返回多个翻译后的文本或者原文。\n",
    "5. 如果你不确定如何翻译，请直接返回原文。\n",
    "\n",
    "请翻译：\n",
    "1. ```{text}```\n",
    "2. ```{text2}```\n",
    "3. ```{text3}```\n",
    "\"\"\"\n",
    "\n",
    "text = \"Demo site example: <code>https://door.casdoor.com/api/get-global-providers?username=built-in/admin&amp;password=123</code>\"\n",
    "\n",
    "res = gpt_completion(prompt.format(lang=\"中文\", text=text,text2=\"1.\",text3=\"https://github.com/casdoor/casdoor/blob/2fec3f72ae9a38891a951e55e088b4967cdf4836/object/organization.go#L32\"))\n",
    "print(res)"
   ],
   "metadata": {
    "collapsed": false,
    "ExecuteTime": {
     "end_time": "2024-03-03T14:03:04.929772Z",
     "start_time": "2024-03-03T14:02:53.277560Z"
    }
   },
   "id": "37e9cdb22e15390c",
   "execution_count": 45
  },
  {
   "cell_type": "code",
   "outputs": [
    {
     "name": "stdout",
     "output_type": "stream",
     "text": [
      "<Please translate the following texts enclosed in triple backticks into {lang}, following the rules below:\n",
      "1. The text may contain code, which should be preserved as is.\n",
      "2. The text may contain HTML tags or HTML escape characters, which should not be translated.\n",
      "3. Please return the translated text or the original text in JSON format, containing a key-value pair, with the key as \"translation\" and the value as the translated or original text.\n",
      "4. If there are multiple texts to be translated, please return them in an array format.\n",
      "5. If you are unsure how to translate, please return the original text.\n",
      "\n",
      "Please translate:\n",
      "1. ```{text}```\n",
      "2. ```{text2}```\n",
      "3. ```{text3}```>\n"
     ]
    }
   ],
   "source": [
    "prompt = \"\"\"\n",
    "请将以下prompt翻译成英文：\n",
    "\n",
    "<请将以下多个用三个反引号括起来的文本翻译为{lang}, 翻译时需要遵循下面的规则：\n",
    "1. 文本中可能存在代码，你需要保留代码的原样。\n",
    "2. 文本中可能包含 HTML 标签或者 HTML 转义字符，请不要翻译这些内容。\n",
    "3. 请以JSON格式返回翻译后的文本或者原文，包含一个键值对，键为\"translation\"，值为翻译后的文本或者原文。\n",
    "4. 如果有多个文本需要翻译，请以数组的形式返回多个翻译后的文本或者原文。\n",
    "5. 如果你不确定如何翻译，请直接返回原文。\n",
    "\n",
    "请翻译：\n",
    "1. ```{text}```\n",
    "2. ```{text2}```\n",
    "3. ```{text3}```>\n",
    "\"\"\"\n",
    "response = gpt_completion(prompt)\n",
    "print(response)"
   ],
   "metadata": {
    "collapsed": false,
    "ExecuteTime": {
     "end_time": "2024-03-03T14:27:01.155491Z",
     "start_time": "2024-03-03T14:26:43.425557Z"
    }
   },
   "id": "de769738c1d0c775",
   "execution_count": 46
  },
  {
   "cell_type": "code",
   "outputs": [
    {
     "name": "stdout",
     "output_type": "stream",
     "text": [
      "```当路由为<1>/login</1>或<1><2>/login</1>时，只会显示组织选择页面。```\n"
     ]
    }
   ],
   "source": [
    "prompt = \"\"\"\n",
    "Please translate the following texts enclosed in triple backticks into {lang}, following the rules below:\n",
    "1. The text may contain code, which should be preserved as is.\n",
    "2. The text may contain HTML tags or HTML escape characters, which should not be translated.\n",
    "3. Please return the translated text or the original text in JSON format, containing a key-value pair, with the key as \"translation\" and the value as the translated or original text.\n",
    "4. If there are multiple texts to be translated, please return them in an array format.\n",
    "5. If you are unsure how to translate, please return the original text.\n",
    "\n",
    "Please translate:\n",
    "1. ```1.```\n",
    "2. ```The organization select page will only be shown when the route is <1>/login</1> or <1><2>/login</1>.```\n",
    "3. ```The organization select page will only be shown when the route is <1>/login</1> or <1><2>/login</1>.```\n",
    "\"\"\"\n",
    "\n",
    "text = \"The organization select page will only be shown when the route is <1>/login</1> or <1><2>/login</1>.\"\n",
    "\n",
    "res = gpt_completion(prompt.format(lang=\"Chinese\", text=text))\n",
    "print(res)"
   ],
   "metadata": {
    "collapsed": false,
    "ExecuteTime": {
     "end_time": "2024-03-03T08:15:16.389192Z",
     "start_time": "2024-03-03T08:15:12.754942Z"
    }
   },
   "id": "9a7a7114ffc273d",
   "execution_count": 41
  },
  {
   "cell_type": "code",
   "outputs": [
    {
     "name": "stdout",
     "output_type": "stream",
     "text": [
      "[\n",
      "  {\n",
      "    \"translation\": \"1.\"\n",
      "  },\n",
      "  {\n",
      "    \"translation\": \"当路由是<1>/login</1>或<1><2>/login</1>时，只会显示组织选择页面。\"\n",
      "  },\n",
      "  {\n",
      "    \"translation\": \"当路由是<1>/login</1>或<1><2>/login</1>时，只会显示组织选择页面。\"\n",
      "  }\n",
      "]======\n",
      "[\n",
      "  {\n",
      "    \"translation\": \"1.\"\n",
      "  },\n",
      "  {\n",
      "    \"translation\": \"当路由是<1>/login</1>或<1><2>/login</1>时，只会显示组织选择页面。\"\n",
      "  },\n",
      "  {\n",
      "    \"translation\": \"当路由是<1>/login</1>或<1><2>/login</1>时，只会显示组织选择页面。\"\n",
      "  }\n",
      "]\n"
     ]
    }
   ],
   "source": [
    "prompt = \"\"\"\n",
    "Please translate the following texts enclosed in triple backticks into Chinese, following the rules below:\n",
    "1. The text may contain code, which should be preserved as is.\n",
    "2. The text may contain HTML tags or HTML escape characters, which should not be translated.\n",
    "3. Please return the translated text or the original text in JSON format, containing a key-value pair, with the key as \"translation\" and the value as the translated or original text.\n",
    "4. If there are multiple texts to be translated, please return them in an array format.\n",
    "5. If you are unsure how to translate, please return the original text.\n",
    "\n",
    "Please translate:\n",
    "1. ```1.```\n",
    "2. ```The organization select page will only be shown when the route is <1>/login</1> or <1><2>/login</1>.```\n",
    "3. ```The organization select page will only be shown when the route is <1>/login</1> or <1><2>/login</1>.```\n",
    "\"\"\"\n",
    "stream = client.chat.completions.create(\n",
    "    model=\"gpt-4\",\n",
    "    messages=[{\"role\": \"user\", \"content\": prompt}],\n",
    "    stream=True,\n",
    ")\n",
    "string = \"\"\n",
    "for chunk in stream:\n",
    "    print(chunk.choices[0].delta.content or \"\", end=\"\")\n",
    "    string += chunk.choices[0].delta.content or \"\"\n",
    "\n",
    "print(\"======\")\n",
    "print(string)\n",
    "\n",
    "def gpt_completion_steam(prompt, model=\"gpt-4\"):\n",
    "    result = \"\"\n",
    "    message = [{\"role\": \"user\", \"content\": prompt}]\n",
    "    stream = client.chat.completions.create(\n",
    "        model=model,\n",
    "        messages=message,\n",
    "        temperature=0,\n",
    "        stream=True,\n",
    "    )\n",
    "    for chunk in stream:\n",
    "        print(chunk.choices[0].delta.content or \"\", end=\"\")\n",
    "        result += chunk.choices[0].delta.content or \"\"\n",
    "    return result"
   ],
   "metadata": {
    "collapsed": false,
    "ExecuteTime": {
     "end_time": "2024-03-03T15:10:40.235707Z",
     "start_time": "2024-03-03T15:10:32.245154Z"
    }
   },
   "id": "c680a56d879d82e5",
   "execution_count": 48
  },
  {
   "cell_type": "code",
   "outputs": [],
   "source": [],
   "metadata": {
    "collapsed": false
   },
   "id": "4753f9901506d22b"
  }
 ],
 "metadata": {
  "kernelspec": {
   "display_name": "Python 3",
   "language": "python",
   "name": "python3"
  },
  "language_info": {
   "codemirror_mode": {
    "name": "ipython",
    "version": 2
   },
   "file_extension": ".py",
   "mimetype": "text/x-python",
   "name": "python",
   "nbconvert_exporter": "python",
   "pygments_lexer": "ipython2",
   "version": "2.7.6"
  }
 },
 "nbformat": 4,
 "nbformat_minor": 5
}

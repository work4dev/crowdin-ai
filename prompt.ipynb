{
 "cells": [
  {
   "cell_type": "code",
   "execution_count": 1,
   "id": "initial_id",
   "metadata": {
    "ExecuteTime": {
     "end_time": "2024-03-05T15:31:53.643532Z",
     "start_time": "2024-03-05T15:31:53.082002Z"
    },
    "collapsed": true
   },
   "outputs": [],
   "source": [
    "from openai import Client\n",
    "import os\n",
    "\n",
    "from dotenv import load_dotenv, find_dotenv\n",
    "_ = load_dotenv(find_dotenv())\n",
    "\n",
    "client = Client(\n",
    "    api_key=os.getenv(\"OPENAI_API_KEY\"),\n",
    "    base_url=os.getenv(\"OPENAI_API_HOST\"),\n",
    ")\n",
    "\n",
    "def gpt_completion(prompt, model=\"gpt-4\"):\n",
    "    message = [{\"role\": \"user\", \"content\": prompt}]\n",
    "    response = client.chat.completions.create(\n",
    "        model=model,\n",
    "        messages=message,\n",
    "        temperature=0,\n",
    "    )\n",
    "    return response.choices[0].message.content\n"
   ]
  },
  {
   "cell_type": "code",
   "execution_count": 5,
   "id": "37e9cdb22e15390c",
   "metadata": {
    "ExecuteTime": {
     "end_time": "2024-03-05T15:34:52.967859Z",
     "start_time": "2024-03-05T15:34:43.865162Z"
    },
    "collapsed": false
   },
   "outputs": [
    {
     "name": "stdout",
     "output_type": "stream",
     "text": [
      "[\n",
      "{\n",
      "\"translation\": \"要在多个设备上通过 TOTP 配置身份验证，在设置过程中，同时使用每个设备扫描 QR 码。\"\n",
      "}\n",
      "]\n"
     ]
    }
   ],
   "source": [
    "prompt = \"\"\"\n",
    "请将以下多个用三个反引号括起来的文本翻译为{lang}, 翻译时需要遵循下面的规则：\n",
    "1. 文本中可能存在代码，你需要保留代码的原样。\n",
    "2. 文本中可能包含 HTML 标签或者 HTML 转义字符，请不要翻译这些内容。\n",
    "3. 如果你不确定如何翻译，请直接返回原文。\n",
    "4. 请以JSON格式返回翻译后的文本或者原文，包含一个键值对，键为\"translation\"，值为翻译后的文本或者原文。\n",
    "5. 如果有多个文本需要翻译，请以数组的形式返回多个翻译后的文本或者原文。\n",
    "\n",
    "请翻译：\n",
    "1. ```{text}```\n",
    "\"\"\"\n",
    "\n",
    "text1 = \"\"\"123\n",
    "\"\"\"\n",
    "\n",
    "\n",
    "res = gpt_completion(prompt.format(lang=\"中文\", text=text1))\n",
    "print(res)"
   ]
  },
  {
   "cell_type": "code",
   "execution_count": null,
   "id": "4753f9901506d22b",
   "metadata": {
    "collapsed": false
   },
   "outputs": [],
   "source": [
    "import  json\n",
    "res_json = json.loads(res)\n",
    "# base64 解码\n",
    "import base64\n",
    "for t in res_json:\n",
    "    print(base64.b64decode(t[\"translation\"]).decode(\"utf-8\"))\n",
    "    print(\"====\")\n",
    "    "
   ]
  },
  {
   "cell_type": "code",
   "execution_count": null,
   "id": "78faa92bee4ba593",
   "metadata": {
    "collapsed": false
   },
   "outputs": [],
   "source": []
  }
 ],
 "metadata": {
  "kernelspec": {
   "display_name": "Python 3",
   "language": "python",
   "name": "python3"
  },
  "language_info": {
   "codemirror_mode": {
    "name": "ipython",
    "version": 2
   },
   "file_extension": ".py",
   "mimetype": "text/x-python",
   "name": "python",
   "nbconvert_exporter": "python",
   "pygments_lexer": "ipython2",
   "version": "3.11.8"
  }
 },
 "nbformat": 4,
 "nbformat_minor": 5
}
